{
 "cells": [
  {
   "cell_type": "markdown",
   "id": "220567ad",
   "metadata": {},
   "source": [
    "# Задание 1 ДЗ 5"
   ]
  },
  {
   "cell_type": "code",
   "execution_count": 411,
   "id": "42017aea",
   "metadata": {},
   "outputs": [],
   "source": [
    "import json"
   ]
  },
  {
   "cell_type": "code",
   "execution_count": 412,
   "id": "8a7b957f",
   "metadata": {},
   "outputs": [],
   "source": [
    "\n",
    "purchases = {}"
   ]
  },
  {
   "cell_type": "code",
   "execution_count": 413,
   "id": "520d544e",
   "metadata": {},
   "outputs": [],
   "source": [
    "with open('purchase_log.txt','r', encoding = 'utf-8') as f:\n",
    "    for line in f:\n",
    "            line = line.strip() \n",
    "            dict_purchases = json.loads(line) \n",
    "            key = dict_purchases['user_id']\n",
    "            value = dict_purchases['category']\n",
    "            purchases[key] = value"
   ]
  },
  {
   "cell_type": "markdown",
   "id": "f4f6a9e0",
   "metadata": {},
   "source": [
    "# Задание 2 ДЗ 5"
   ]
  },
  {
   "cell_type": "code",
   "execution_count": 414,
   "id": "ae8de66d",
   "metadata": {},
   "outputs": [],
   "source": [
    "with open('visit_log.csv','r', encoding = 'utf-8') as f, open('funnel.csv','w', encoding = 'utf-16') as f2:# Открываем 2 файла\n",
    "    for element in f:# Построчно проходимся в файле visit_log\n",
    "        list_line = element.strip().split(\",\") #Приводим в нормальный вид. Список\n",
    "        if list_line[0] in purchases.keys(): # Проверяем есть ли user_id\n",
    "            list_line.append(purchases[list_line[0]]) #Добавляем к строке category\n",
    "            add_line=','.join(list_line) # Присоединяем все в переменную\n",
    "            f2.write(add_line+'\\n') # записываем наше значение в файл funnel.csv"
   ]
  },
  {
   "cell_type": "code",
   "execution_count": 416,
   "id": "5d8e6816",
   "metadata": {},
   "outputs": [
    {
     "name": "stdout",
     "output_type": "stream",
     "text": [
      "user_id,source,category\n",
      "\n",
      "1840e0b9d4,other,Продукты\n",
      "\n",
      "4e4f90fcfb,context,Электроника\n",
      "\n",
      "afea8d72fc,other,Электроника\n",
      "\n",
      "2824221f38,email,Продукты\n",
      "\n",
      "373a6055fe,other,Бытовая техника\n",
      "\n",
      "9b2ab046f3,other,Электроника\n",
      "\n",
      "9f39d307c3,context,Электроника\n",
      "\n",
      "44edeffc91,context,Продукты\n",
      "\n",
      "704474fa2d,other,Продукты\n",
      "\n"
     ]
    }
   ],
   "source": [
    "#Тест первых 10 строк funnel.csv\n",
    "i=0\n",
    "with open('funnel.csv','r', encoding = 'utf-16') as f:\n",
    "    for val in f:\n",
    "        i=i+1\n",
    "        if i <= 10:\n",
    "            print(val)"
   ]
  },
  {
   "cell_type": "code",
   "execution_count": null,
   "id": "4e976034",
   "metadata": {},
   "outputs": [],
   "source": []
  }
 ],
 "metadata": {
  "kernelspec": {
   "display_name": "Python 3 (ipykernel)",
   "language": "python",
   "name": "python3"
  },
  "language_info": {
   "codemirror_mode": {
    "name": "ipython",
    "version": 3
   },
   "file_extension": ".py",
   "mimetype": "text/x-python",
   "name": "python",
   "nbconvert_exporter": "python",
   "pygments_lexer": "ipython3",
   "version": "3.9.12"
  }
 },
 "nbformat": 4,
 "nbformat_minor": 5
}
