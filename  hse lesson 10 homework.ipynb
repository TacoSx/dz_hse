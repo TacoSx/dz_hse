{
 "cells": [
  {
   "cell_type": "code",
   "execution_count": 1,
   "id": "1977a733",
   "metadata": {},
   "outputs": [
    {
     "name": "stdout",
     "output_type": "stream",
     "text": [
      "Collecting ipytest\n",
      "  Downloading ipytest-0.12.0-py3-none-any.whl (15 kB)\n",
      "Requirement already satisfied: packaging in e:\\anaconda\\lib\\site-packages (from ipytest) (21.3)\n",
      "Requirement already satisfied: pytest>=5.4 in e:\\anaconda\\lib\\site-packages (from ipytest) (7.1.2)\n",
      "Requirement already satisfied: ipython in e:\\anaconda\\lib\\site-packages (from ipytest) (7.31.1)\n",
      "Requirement already satisfied: attrs>=19.2.0 in e:\\anaconda\\lib\\site-packages (from pytest>=5.4->ipytest) (21.4.0)\n",
      "Requirement already satisfied: iniconfig in e:\\anaconda\\lib\\site-packages (from pytest>=5.4->ipytest) (1.1.1)\n",
      "Requirement already satisfied: pluggy<2.0,>=0.12 in e:\\anaconda\\lib\\site-packages (from pytest>=5.4->ipytest) (1.0.0)\n",
      "Requirement already satisfied: py>=1.8.2 in e:\\anaconda\\lib\\site-packages (from pytest>=5.4->ipytest) (1.11.0)\n",
      "Requirement already satisfied: tomli>=1.0.0 in e:\\anaconda\\lib\\site-packages (from pytest>=5.4->ipytest) (2.0.1)\n",
      "Requirement already satisfied: atomicwrites>=1.0 in e:\\anaconda\\lib\\site-packages (from pytest>=5.4->ipytest) (1.4.0)\n",
      "Requirement already satisfied: colorama in e:\\anaconda\\lib\\site-packages (from pytest>=5.4->ipytest) (0.4.5)\n",
      "Requirement already satisfied: matplotlib-inline in e:\\anaconda\\lib\\site-packages (from ipython->ipytest) (0.1.6)\n",
      "Requirement already satisfied: decorator in e:\\anaconda\\lib\\site-packages (from ipython->ipytest) (5.1.1)\n",
      "Requirement already satisfied: pygments in e:\\anaconda\\lib\\site-packages (from ipython->ipytest) (2.11.2)\n",
      "Requirement already satisfied: backcall in e:\\anaconda\\lib\\site-packages (from ipython->ipytest) (0.2.0)\n",
      "Requirement already satisfied: jedi>=0.16 in e:\\anaconda\\lib\\site-packages (from ipython->ipytest) (0.18.1)\n",
      "Requirement already satisfied: prompt-toolkit!=3.0.0,!=3.0.1,<3.1.0,>=2.0.0 in e:\\anaconda\\lib\\site-packages (from ipython->ipytest) (3.0.20)\n",
      "Requirement already satisfied: pickleshare in e:\\anaconda\\lib\\site-packages (from ipython->ipytest) (0.7.5)\n",
      "Requirement already satisfied: traitlets>=4.2 in e:\\anaconda\\lib\\site-packages (from ipython->ipytest) (5.1.1)\n",
      "Requirement already satisfied: setuptools>=18.5 in e:\\anaconda\\lib\\site-packages (from ipython->ipytest) (63.4.1)\n",
      "Requirement already satisfied: pyparsing!=3.0.5,>=2.0.2 in e:\\anaconda\\lib\\site-packages (from packaging->ipytest) (3.0.9)\n",
      "Requirement already satisfied: parso<0.9.0,>=0.8.0 in e:\\anaconda\\lib\\site-packages (from jedi>=0.16->ipython->ipytest) (0.8.3)\n",
      "Requirement already satisfied: wcwidth in e:\\anaconda\\lib\\site-packages (from prompt-toolkit!=3.0.0,!=3.0.1,<3.1.0,>=2.0.0->ipython->ipytest) (0.2.5)\n",
      "Installing collected packages: ipytest\n",
      "Successfully installed ipytest-0.12.0\n",
      "Note: you may need to restart the kernel to use updated packages.\n"
     ]
    }
   ],
   "source": [
    "pip install ipytest"
   ]
  },
  {
   "cell_type": "code",
   "execution_count": 2,
   "id": "77124484",
   "metadata": {},
   "outputs": [
    {
     "name": "stdout",
     "output_type": "stream",
     "text": [
      "Collecting pytest-mock\n",
      "  Downloading pytest_mock-3.10.0-py3-none-any.whl (9.3 kB)\n",
      "Requirement already satisfied: pytest>=5.0 in e:\\anaconda\\lib\\site-packages (from pytest-mock) (7.1.2)\n",
      "Requirement already satisfied: attrs>=19.2.0 in e:\\anaconda\\lib\\site-packages (from pytest>=5.0->pytest-mock) (21.4.0)\n",
      "Requirement already satisfied: iniconfig in e:\\anaconda\\lib\\site-packages (from pytest>=5.0->pytest-mock) (1.1.1)\n",
      "Requirement already satisfied: packaging in e:\\anaconda\\lib\\site-packages (from pytest>=5.0->pytest-mock) (21.3)\n",
      "Requirement already satisfied: pluggy<2.0,>=0.12 in e:\\anaconda\\lib\\site-packages (from pytest>=5.0->pytest-mock) (1.0.0)\n",
      "Requirement already satisfied: py>=1.8.2 in e:\\anaconda\\lib\\site-packages (from pytest>=5.0->pytest-mock) (1.11.0)\n",
      "Requirement already satisfied: tomli>=1.0.0 in e:\\anaconda\\lib\\site-packages (from pytest>=5.0->pytest-mock) (2.0.1)\n",
      "Requirement already satisfied: atomicwrites>=1.0 in e:\\anaconda\\lib\\site-packages (from pytest>=5.0->pytest-mock) (1.4.0)\n",
      "Requirement already satisfied: colorama in e:\\anaconda\\lib\\site-packages (from pytest>=5.0->pytest-mock) (0.4.5)\n",
      "Requirement already satisfied: pyparsing!=3.0.5,>=2.0.2 in e:\\anaconda\\lib\\site-packages (from packaging->pytest>=5.0->pytest-mock) (3.0.9)\n",
      "Installing collected packages: pytest-mock\n",
      "Successfully installed pytest-mock-3.10.0\n",
      "Note: you may need to restart the kernel to use updated packages.\n"
     ]
    }
   ],
   "source": [
    "pip install pytest-mock"
   ]
  },
  {
   "cell_type": "code",
   "execution_count": 248,
   "id": "8b05270f",
   "metadata": {},
   "outputs": [],
   "source": [
    "import pytest\n",
    "import ipytest\n",
    "import os\n",
    "\n",
    "ipytest.autoconfig(addopts=[\"-v\"])"
   ]
  },
  {
   "cell_type": "markdown",
   "id": "452ad750",
   "metadata": {},
   "source": [
    "# Задание 1"
   ]
  },
  {
   "cell_type": "code",
   "execution_count": 249,
   "id": "dddcbb19",
   "metadata": {},
   "outputs": [
    {
     "name": "stdout",
     "output_type": "stream",
     "text": [
      "======================================= test session starts =======================================\n",
      "platform win32 -- Python 3.9.13, pytest-7.1.2, pluggy-1.0.0 -- E:\\Anaconda\\python.exe\n",
      "cachedir: .pytest_cache\n",
      "rootdir: C:\\Users\\Wisk\n",
      "plugins: anyio-3.5.0, mock-3.10.0\n",
      "collecting ... collected 7 items\n",
      "\n",
      "tmphue_7zx3.py::test_is_palindrome[@\\u0430 \\u043b \\u043b \\u0430@-True] PASSED                [ 14%]\n",
      "tmphue_7zx3.py::test_is_palindrome[Ser-False] PASSED                                         [ 28%]\n",
      "tmphue_7zx3.py::test_is_palindrome[bob-True] PASSED                                          [ 42%]\n",
      "tmphue_7zx3.py::test_is_palindrome[,_,_,-True] PASSED                                        [ 57%]\n",
      "tmphue_7zx3.py::test_palindrome_empty_string PASSED                                          [ 71%]\n",
      "tmphue_7zx3.py::test_palindrome_one_char PASSED                                              [ 85%]\n",
      "tmphue_7zx3.py::test_palindrome_is_str PASSED                                                [100%]\n",
      "\n",
      "======================================== 7 passed in 0.05s ========================================\n"
     ]
    }
   ],
   "source": [
    "%%ipytest\n",
    "def is_palindrome(string):\n",
    "    try:\n",
    "        reversed_string = \"\"\n",
    "\n",
    "        # Удалим все пробелы\n",
    "        s = string.replace(\" \",\"\")\n",
    "        # переведем в нижний реестр\n",
    "        s = s.lower()\n",
    "        for i in range(len(s), 0, -1):\n",
    "            reversed_string += s[i - 1]\n",
    "\n",
    "\n",
    "        if (s == reversed_string) and (string.strip()) and (len(s)>1) and (isinstance(s, str)):\n",
    "            return True\n",
    "        else:\n",
    "            return False\n",
    "    except Exception:\n",
    "        return False\n",
    "\n",
    "@pytest.mark.parametrize(\"s,expected\", [(\"@а л л а@\", True), (\"Ser\", False), (\"bob\", True), (\",_,_,\", True)])\n",
    "def test_is_palindrome(s, expected):\n",
    "    assert is_palindrome(s)==expected\n",
    "    \n",
    "def test_palindrome_empty_string():\n",
    "    assert is_palindrome(\"     \") == False\n",
    "\n",
    "def test_palindrome_one_char():\n",
    "    assert is_palindrome(\"t\") == False    \n",
    "    \n",
    "def test_palindrome_is_str():\n",
    "    assert is_palindrome(555) == False\n",
    "\n",
    "    \n",
    " #тест класса проигрываний.   \n",
    "    "
   ]
  },
  {
   "cell_type": "markdown",
   "id": "33156d7b",
   "metadata": {},
   "source": [
    "# Задание 2"
   ]
  },
  {
   "cell_type": "code",
   "execution_count": 250,
   "id": "372a41ea",
   "metadata": {},
   "outputs": [],
   "source": [
    "DEVELOP_NAME = \"Bob\"\n",
    "DESIGN_NAME = \"Anna\"\n",
    "DESIGN_AWARDS = 0"
   ]
  },
  {
   "cell_type": "code",
   "execution_count": 251,
   "id": "c8446578",
   "metadata": {},
   "outputs": [],
   "source": [
    "class Employee:\n",
    "    def __init__(self, name, seniority):\n",
    "        self.name = name\n",
    "        self.seniority = seniority\n",
    "        \n",
    "        self.grade = 1\n",
    "    \n",
    "    def grade_up(self):\n",
    "        \"\"\"Повышает уровень сотрудника\"\"\"\n",
    "        self.grade += 1\n",
    "    \n",
    "    def publish_grade(self):\n",
    "        \"\"\"Публикация результатов аккредитации сотрудников\"\"\"\n",
    "        print(self.name, self.grade)"
   ]
  },
  {
   "cell_type": "code",
   "execution_count": 252,
   "id": "90faa358",
   "metadata": {},
   "outputs": [],
   "source": [
    "class Developer(Employee):\n",
    "    def __init__(self, name, seniority):\n",
    "        super().__init__(name, seniority)\n",
    "    \n",
    "    def check_if_it_is_time_for_upgrade(self):\n",
    "        # для каждой аккредитации увеличиваем счетчик на 1\n",
    "        # пока считаем, что все разработчики проходят аккредитацию\n",
    "        self.seniority += 1\n",
    "        \n",
    "        # условие повышения сотрудника из презентации\n",
    "        if self.seniority % 5 == 0:\n",
    "            self.grade_up()\n",
    "        \n",
    "        # публикация результатов\n",
    "        return self.publish_grade()"
   ]
  },
  {
   "cell_type": "code",
   "execution_count": 253,
   "id": "a21afb0f",
   "metadata": {},
   "outputs": [],
   "source": [
    "class Designer(Employee):\n",
    "    def __init__(self, name, seniority, awards):\n",
    "        super().__init__(name, seniority)\n",
    "        self.awards = awards\n",
    "        self.seniority += awards*2\n",
    "    \n",
    "    def check_if_it_is_time_for_upgrade(self):\n",
    "        # для каждой аккредитации увеличиваем счетчик на 1\n",
    "        # пока считаем, что все разработчики проходят аккредитацию\n",
    "        #print('количество баллов', self.seniority)\n",
    "        self.seniority += 1\n",
    "        \n",
    "        # условие повышения сотрудника из презентации\n",
    "        if self.seniority % 7 == 0:\n",
    "            self.grade_up()\n",
    "        \n",
    "        # публикация результатов\n",
    "        return self.publish_grade()"
   ]
  },
  {
   "cell_type": "code",
   "execution_count": 254,
   "id": "d179dccb",
   "metadata": {},
   "outputs": [],
   "source": [
    "@pytest.fixture\n",
    "def designer():\n",
    "    def _designer(seniority):\n",
    "        return Designer(name=DESIGN_NAME,seniority=seniority,awards=DESIGN_AWARDS)\n",
    "    return _designer\n",
    "\n",
    "@pytest.fixture\n",
    "def developer():\n",
    "    def _developer(seniority):\n",
    "        return Developer(name=DEVELOP_NAME,seniority=seniority)\n",
    "    return _developer"
   ]
  },
  {
   "cell_type": "code",
   "execution_count": 255,
   "id": "2c782693",
   "metadata": {},
   "outputs": [
    {
     "name": "stdout",
     "output_type": "stream",
     "text": [
      "======================================= test session starts =======================================\n",
      "platform win32 -- Python 3.9.13, pytest-7.1.2, pluggy-1.0.0 -- E:\\Anaconda\\python.exe\n",
      "cachedir: .pytest_cache\n",
      "rootdir: C:\\Users\\Wisk\n",
      "plugins: anyio-3.5.0, mock-3.10.0\n",
      "collecting ... collected 2 items\n",
      "\n",
      "tmpmph8ac7i.py::test_des_dev[2-4-4-5] PASSED                                                 [ 50%]\n",
      "tmpmph8ac7i.py::test_des_dev[4-4-8-5] PASSED                                                 [100%]\n",
      "\n",
      "======================================== 2 passed in 0.04s ========================================\n"
     ]
    }
   ],
   "source": [
    "%%ipytest\n",
    "@pytest.mark.parametrize(\"seniority_designer,real_grade_des,seniority_developer,real_grade_dev\",[(2,4,4,5),(4,4,8,5)])\n",
    "def test_des_dev(designer,developer,seniority_designer,real_grade_des,seniority_developer,real_grade_dev):\n",
    "    a = designer(seniority_designer)\n",
    "    b = developer(seniority_developer)\n",
    "    for i in range(20):\n",
    "        b.check_if_it_is_time_for_upgrade()\n",
    "        a.check_if_it_is_time_for_upgrade()\n",
    "    assert b.grade == real_grade_dev\n",
    "    assert a.grade == real_grade_des"
   ]
  },
  {
   "cell_type": "markdown",
   "id": "6967a0e9",
   "metadata": {},
   "source": [
    "# Задание 3"
   ]
  },
  {
   "cell_type": "code",
   "execution_count": 182,
   "id": "e5f078dc",
   "metadata": {},
   "outputs": [],
   "source": [
    "import requests\n",
    "import json\n",
    "from unittest.mock import Mock, MagicMock, patch"
   ]
  },
  {
   "cell_type": "code",
   "execution_count": 256,
   "id": "9962c1bf",
   "metadata": {},
   "outputs": [],
   "source": [
    "class Rate:\n",
    "    def __init__(self, format='value',diff=False):\n",
    "        self.format = format\n",
    "        self.diff=diff\n",
    "       \n",
    "    def max_cur(self):\n",
    "        r_json = self.exchange_rates()\n",
    "        all_currencies_value={}\n",
    "        for element in r_json:\n",
    "            all_currencies_value[element]=r_json[element]['Value']\n",
    "        max_currencies=max(all_currencies_value.keys(),key=(lambda x:all_currencies_value[x]))\n",
    "        return(r_json[max_currencies]['Name'])\n",
    "\n",
    "    def exchange_rates(self):\n",
    "        r = requests.get(\"https://www.cbr-xml-daily.ru/daily_json.js\")\n",
    "        return r.json()['Valute']\n",
    "    \n",
    "    def make_format(self, currency):\n",
    "        response = self.exchange_rates()\n",
    "        \n",
    "        if currency in response:\n",
    "            if self.format == 'full':\n",
    "                return response[currency]\n",
    "            \n",
    "            if self.format == 'value':\n",
    "                \n",
    "                if not self.diff:\n",
    "                    return response[currency]['Value']\n",
    "                else:\n",
    "                    return response[currency]['Value']-response[currency]['Previous']\n",
    "        \n",
    "        return 'Error'\n",
    "    \n",
    "    def eur(self):\n",
    "        \"\"\"Возвращает курс евро на сегодня в формате self.format\"\"\"\n",
    "        return self.make_format('EUR')\n",
    "    \n",
    "    def usd(self):\n",
    "        \"\"\"Возвращает курс доллара на сегодня в формате self.format\"\"\"\n",
    "        return self.make_format('USD')\n",
    "    \n",
    "    def brl(self):\n",
    "        \"\"\"Возвращает курс бразильского реала на сегодня в формате self.format\"\"\"\n",
    "        return self.make_format('BRL')"
   ]
  },
  {
   "cell_type": "code",
   "execution_count": 239,
   "id": "4d706e02",
   "metadata": {},
   "outputs": [],
   "source": [
    "a=Rate(format=\"full\",diff=False)"
   ]
  },
  {
   "cell_type": "code",
   "execution_count": 246,
   "id": "e35ebe6a",
   "metadata": {},
   "outputs": [
    {
     "data": {
      "text/plain": [
       "{'ID': 'R01010',\n",
       " 'NumCode': '036',\n",
       " 'CharCode': 'AUD',\n",
       " 'Nominal': 1,\n",
       " 'Name': 'Австралийский доллар',\n",
       " 'Value': 39.8703,\n",
       " 'Previous': 39.3121}"
      ]
     },
     "execution_count": 246,
     "metadata": {},
     "output_type": "execute_result"
    }
   ],
   "source": [
    "a.make_format(\"AUD\")"
   ]
  },
  {
   "cell_type": "code",
   "execution_count": 247,
   "id": "42bd1cbe",
   "metadata": {},
   "outputs": [
    {
     "name": "stdout",
     "output_type": "stream",
     "text": [
      "======================================= test session starts =======================================\n",
      "platform win32 -- Python 3.9.13, pytest-7.1.2, pluggy-1.0.0 -- E:\\Anaconda\\python.exe\n",
      "cachedir: .pytest_cache\n",
      "rootdir: C:\\Users\\Wisk\n",
      "plugins: anyio-3.5.0, mock-3.10.0\n",
      "collecting ... collected 4 items\n",
      "\n",
      "tmpkwkb9z5j.py::test_make_format[AUD-value-False-39.8703] PASSED                             [ 25%]\n",
      "tmpkwkb9z5j.py::test_make_format[AZN-value-True--0.6032000000000011] PASSED                  [ 50%]\n",
      "tmpkwkb9z5j.py::test_make_format[AZN-full-True-{'ID': 'R01020A',  'NumCode': '944',  'CharCode': 'AZN',  'Nominal': 1,  'Name': '\\u0410\\u0437\\u0435\\u0440\\u0431\\u0430\\u0439\\u0434\\u0436\\u0430\\u043d\\u0441\\u043a\\u0438\\u0439 \\u043c\\u0430\\u043d\\u0430\\u0442',  'Value': 35.4223,  'Previous': 36.0255}] PASSED [ 75%]\n",
      "tmpkwkb9z5j.py::test_make_format[AUD-full-False-{'ID': 'R01010',  'NumCode': '036',  'CharCode': 'AUD',  'Nominal': 1,  'Name': '\\u0410\\u0432\\u0441\\u0442\\u0440\\u0430\\u043b\\u0438\\u0439\\u0441\\u043a\\u0438\\u0439 \\u0434\\u043e\\u043b\\u043b\\u0430\\u0440',  'Value': 39.8703,  'Previous': 39.3121}] PASSED [100%]\n",
      "\n",
      "======================================== 4 passed in 0.04s ========================================\n"
     ]
    }
   ],
   "source": [
    "%%ipytest\n",
    "\n",
    "@pytest.mark.parametrize(\"valute,format_v,diff_v,expected\",[(\"AUD\",\"value\",False, 39.8703),(\"AZN\",\"value\",True, -0.6032000000000011),\n",
    "(\"AZN\",\"full\",True, \"{'ID': 'R01020A',  'NumCode': '944',  'CharCode': 'AZN',  'Nominal': 1,  'Name': 'Азербайджанский манат',  'Value': 35.4223,  'Previous': 36.0255}\"),\n",
    "(\"AUD\",\"full\",False, \"{'ID': 'R01010',  'NumCode': '036',  'CharCode': 'AUD',  'Nominal': 1,  'Name': 'Австралийский доллар',  'Value': 39.8703,  'Previous': 39.3121}\"),])\n",
    "def test_make_format(mocker,valute,format_v,diff_v,expected):\n",
    "    str_json = '''{\n",
    "        \"AUD\": {\n",
    "            \"ID\": \"R01010\",\n",
    "            \"NumCode\": \"036\",\n",
    "            \"CharCode\": \"AUD\",\n",
    "            \"Nominal\": 1,\n",
    "            \"Name\": \"Австралийский доллар\",\n",
    "            \"Value\": 39.8703,\n",
    "            \"Previous\": 39.3121\n",
    "        },\n",
    "        \"AZN\": {\n",
    "            \"ID\": \"R01020A\",\n",
    "            \"NumCode\": \"944\",\n",
    "            \"CharCode\": \"AZN\",\n",
    "            \"Nominal\": 1,\n",
    "            \"Name\": \"Азербайджанский манат\",\n",
    "            \"Value\": 35.4223,\n",
    "            \"Previous\": 36.0255\n",
    "        }\n",
    "    }'''\n",
    "    mocker.patch(__name__ + \".Rate.exchange_rates\", return_value=json.loads(str_json))\n",
    "    c = Rate(format=format_v,diff=diff_v)\n",
    "    if format_v == \"value\":\n",
    "        assert c.make_format(valute) == expected\n",
    "    else:\n",
    "        valid_json = expected.replace(\"\\'\", \"\\\"\")\n",
    "        str_expected = json.loads(valid_json)\n",
    "        assert c.make_format(valute) == str_expected\n"
   ]
  },
  {
   "cell_type": "code",
   "execution_count": null,
   "id": "7be34fe8",
   "metadata": {},
   "outputs": [],
   "source": []
  }
 ],
 "metadata": {
  "kernelspec": {
   "display_name": "Python 3 (ipykernel)",
   "language": "python",
   "name": "python3"
  },
  "language_info": {
   "codemirror_mode": {
    "name": "ipython",
    "version": 3
   },
   "file_extension": ".py",
   "mimetype": "text/x-python",
   "name": "python",
   "nbconvert_exporter": "python",
   "pygments_lexer": "ipython3",
   "version": "3.9.13"
  }
 },
 "nbformat": 4,
 "nbformat_minor": 5
}
