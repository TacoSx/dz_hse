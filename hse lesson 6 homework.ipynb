{
 "cells": [
  {
   "cell_type": "code",
   "execution_count": 192,
   "id": "8da91457",
   "metadata": {},
   "outputs": [],
   "source": [
    "import datetime"
   ]
  },
  {
   "cell_type": "markdown",
   "id": "a85e093e",
   "metadata": {},
   "source": [
    "# Задание 1"
   ]
  },
  {
   "cell_type": "code",
   "execution_count": 193,
   "id": "3d7211b3",
   "metadata": {},
   "outputs": [],
   "source": [
    "#The Moscow Times\n",
    "date_the_moscow_times = 'Wednesday, October 2, 2002'\n",
    "date_time_obj = datetime.datetime.strptime(date_the_moscow_times, '%A, %B %d, %Y')"
   ]
  },
  {
   "cell_type": "code",
   "execution_count": 194,
   "id": "600e6342",
   "metadata": {},
   "outputs": [
    {
     "data": {
      "text/plain": [
       "datetime.datetime(2002, 10, 2, 0, 0)"
      ]
     },
     "execution_count": 194,
     "metadata": {},
     "output_type": "execute_result"
    }
   ],
   "source": [
    "date_time_obj"
   ]
  },
  {
   "cell_type": "code",
   "execution_count": 195,
   "id": "001c257b",
   "metadata": {},
   "outputs": [],
   "source": [
    "#The Guardian\n",
    "date_the_guardian = 'Friday, 11.10.13'\n",
    "date_time_obj_the_guardian = datetime.datetime.strptime(date_the_guardian, '%A, %d.%m.%y')"
   ]
  },
  {
   "cell_type": "code",
   "execution_count": 196,
   "id": "7cd88c6b",
   "metadata": {},
   "outputs": [
    {
     "data": {
      "text/plain": [
       "datetime.datetime(2013, 10, 11, 0, 0)"
      ]
     },
     "execution_count": 196,
     "metadata": {},
     "output_type": "execute_result"
    }
   ],
   "source": [
    "date_time_obj_the_guardian"
   ]
  },
  {
   "cell_type": "code",
   "execution_count": 197,
   "id": "c4ed4053",
   "metadata": {},
   "outputs": [],
   "source": [
    "#Daily News\n",
    "date_the_daily_news = 'Thursday, 18 August 1977'\n",
    "date_time_obj_daily_news = datetime.datetime.strptime(date_the_daily_news, '%A, %d %B %Y')"
   ]
  },
  {
   "cell_type": "code",
   "execution_count": 198,
   "id": "ee177fbf",
   "metadata": {},
   "outputs": [
    {
     "data": {
      "text/plain": [
       "datetime.datetime(1977, 8, 18, 0, 0)"
      ]
     },
     "execution_count": 198,
     "metadata": {},
     "output_type": "execute_result"
    }
   ],
   "source": [
    "date_time_obj_daily_news"
   ]
  },
  {
   "cell_type": "markdown",
   "id": "653addff",
   "metadata": {},
   "source": [
    "# Задание 2"
   ]
  },
  {
   "cell_type": "code",
   "execution_count": 187,
   "id": "a6e39fbf",
   "metadata": {},
   "outputs": [],
   "source": [
    "from datetime import datetime, timedelta"
   ]
  },
  {
   "cell_type": "code",
   "execution_count": 188,
   "id": "88bbd850",
   "metadata": {},
   "outputs": [],
   "source": [
    "def date_range(start_date,end_date):\n",
    "    days=[]\n",
    "    if check_date(start_date,end_date) == True and (datetime.strptime(start_date, '%Y-%m-%d') < datetime.strptime(end_date, '%Y-%m-%d'))==True:\n",
    "        start_dt=datetime.strptime(start_date,'%Y-%m-%d')\n",
    "        end_dt=datetime.strptime(end_date,'%Y-%m-%d')\n",
    "        days.append(start_date)\n",
    "        while start_dt<end_dt:\n",
    "            start_dt+=timedelta(days=1)\n",
    "            print_datetime=datetime.strftime(start_dt,'%Y-%m-%d')\n",
    "            days.append(print_datetime)\n",
    "        return(days)\n",
    "    else:\n",
    "        return(days)"
   ]
  },
  {
   "cell_type": "code",
   "execution_count": 189,
   "id": "a3e709bb",
   "metadata": {},
   "outputs": [],
   "source": [
    " def check_date(any_start_date,any_end):\n",
    "    try:\n",
    "        datetime.strptime(any_start_date, '%Y-%m-%d') and datetime.strptime(any_end, '%Y-%m-%d')\n",
    "        return True\n",
    "    except ValueError:\n",
    "        return False"
   ]
  },
  {
   "cell_type": "code",
   "execution_count": 190,
   "id": "04ea9044",
   "metadata": {
    "scrolled": true
   },
   "outputs": [
    {
     "data": {
      "text/plain": [
       "['2022-01-01', '2022-01-02', '2022-01-03', '2022-01-04']"
      ]
     },
     "execution_count": 190,
     "metadata": {},
     "output_type": "execute_result"
    }
   ],
   "source": [
    "date_range('2022-01-01','2022-01-04')"
   ]
  },
  {
   "cell_type": "code",
   "execution_count": 191,
   "id": "6f7ce0d5",
   "metadata": {},
   "outputs": [
    {
     "data": {
      "text/plain": [
       "[]"
      ]
     },
     "execution_count": 191,
     "metadata": {},
     "output_type": "execute_result"
    }
   ],
   "source": [
    "#Проверка на вывод при неправильном формате и начальной даты больше чем конечной\n",
    "date_range('2022,01-01','2022-01-04')"
   ]
  },
  {
   "cell_type": "code",
   "execution_count": 186,
   "id": "bbad1a01",
   "metadata": {},
   "outputs": [
    {
     "data": {
      "text/plain": [
       "[]"
      ]
     },
     "execution_count": 186,
     "metadata": {},
     "output_type": "execute_result"
    }
   ],
   "source": [
    "date_range('2022-04-01','2022-01-04')"
   ]
  }
 ],
 "metadata": {
  "kernelspec": {
   "display_name": "Python 3 (ipykernel)",
   "language": "python",
   "name": "python3"
  },
  "language_info": {
   "codemirror_mode": {
    "name": "ipython",
    "version": 3
   },
   "file_extension": ".py",
   "mimetype": "text/x-python",
   "name": "python",
   "nbconvert_exporter": "python",
   "pygments_lexer": "ipython3",
   "version": "3.9.12"
  }
 },
 "nbformat": 4,
 "nbformat_minor": 5
}
