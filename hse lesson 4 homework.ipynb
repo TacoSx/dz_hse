{
 "cells": [
  {
   "cell_type": "markdown",
   "id": "5a425d9f",
   "metadata": {},
   "source": [
    "# Задание 1,2"
   ]
  },
  {
   "cell_type": "code",
   "execution_count": 332,
   "id": "b2648e56",
   "metadata": {},
   "outputs": [],
   "source": [
    "documents = [\n",
    " {'type': 'passport', 'number': '2207 876234', 'name': 'Василий Гупкин'},\n",
    " {'type': 'invoice', 'number': '11-2', 'name': 'Геннадий Покемонов'},\n",
    " {'type': 'insurance', 'number': '10006', 'name': 'Аристарх Павлов'}\n",
    "]"
   ]
  },
  {
   "cell_type": "code",
   "execution_count": 333,
   "id": "af471064",
   "metadata": {},
   "outputs": [],
   "source": [
    "directories = {\n",
    " '1': ['2207 876234', '11-2'],\n",
    " '2': ['10006'],\n",
    " '3': []\n",
    "}"
   ]
  },
  {
   "cell_type": "code",
   "execution_count": 334,
   "id": "c036b910",
   "metadata": {},
   "outputs": [],
   "source": [
    "def search_in_num():\n",
    "    \"\"\"Ищет владельца документа по его номеру\"\"\"\n",
    "    found = False\n",
    "    print(\"Введите номер документа: \")\n",
    "    num_doc = input()\n",
    "    for value in documents:\n",
    "        if value[\"number\"] == num_doc:\n",
    "            print(f'Владелец документа: {value[\"name\"]}')\n",
    "            found = True\n",
    "            \n",
    "    if not found:\n",
    "        print(\"Владелец документа не найден\")\n",
    "            "
   ]
  },
  {
   "cell_type": "code",
   "execution_count": 335,
   "id": "0bfc91f7",
   "metadata": {},
   "outputs": [],
   "source": [
    "def search_in_shelf():\n",
    "    \"\"\"Ищет на какой полке лежит документ\"\"\"\n",
    "    found = False\n",
    "    print(\"Введите номер документа: \")\n",
    "    num_doc = input()\n",
    "    for value in directories.items():\n",
    "        for element in value[1]:\n",
    "            if element == num_doc:\n",
    "                print(f'Документ хранится на полке: {value[0]}')\n",
    "                found = True\n",
    "                \n",
    "    if not found:\n",
    "        print(\"Документ не найден\")"
   ]
  },
  {
   "cell_type": "code",
   "execution_count": 336,
   "id": "38362e20",
   "metadata": {},
   "outputs": [],
   "source": [
    "def input_cmd():\n",
    "    \"\"\"Бесконечный цикл ввода команд\n",
    "    Команда \"p\" ищет владельца документа\n",
    "    Команда \"s\" ищет на какой полке лежит документ\n",
    "    \"\"\"\n",
    "    i = \"\"\n",
    "    print(\"Введите команду: \\n\")\n",
    "    while i != \"q\":\n",
    "        i = input()\n",
    "        if i == \"p\":\n",
    "            search_in_num()\n",
    "        elif i == \"s\":\n",
    "            search_in_shelf()"
   ]
  },
  {
   "cell_type": "code",
   "execution_count": 325,
   "id": "6706440a",
   "metadata": {},
   "outputs": [
    {
     "name": "stdout",
     "output_type": "stream",
     "text": [
      "Введите команду: \n",
      "\n",
      "a\n",
      "b\n",
      "c\n",
      "d\n",
      "p\n",
      "Введите номер документа: \n",
      "10006\n",
      "Владелец документа: Аристарх Павлов\n",
      "p\n",
      "Введите номер документа: \n",
      "1001\n",
      "Владелец документа не найден\n",
      "s\n",
      "Введите номер документа: \n",
      "10006\n",
      "Документ хранится на полке: 2\n",
      "s\n",
      "Введите номер документа: \n",
      "1001\n",
      "Документ не найден\n",
      "s\n",
      "Введите номер документа: \n",
      "11-2\n",
      "Документ хранится на полке: 1\n",
      "q\n"
     ]
    }
   ],
   "source": [
    "input_cmd()"
   ]
  },
  {
   "cell_type": "code",
   "execution_count": null,
   "id": "8484ac16",
   "metadata": {},
   "outputs": [],
   "source": []
  }
 ],
 "metadata": {
  "kernelspec": {
   "display_name": "Python 3 (ipykernel)",
   "language": "python",
   "name": "python3"
  },
  "language_info": {
   "codemirror_mode": {
    "name": "ipython",
    "version": 3
   },
   "file_extension": ".py",
   "mimetype": "text/x-python",
   "name": "python",
   "nbconvert_exporter": "python",
   "pygments_lexer": "ipython3",
   "version": "3.9.12"
  }
 },
 "nbformat": 4,
 "nbformat_minor": 5
}
