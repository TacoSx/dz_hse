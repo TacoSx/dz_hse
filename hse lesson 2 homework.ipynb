{
 "cells": [
  {
   "cell_type": "markdown",
   "id": "53c2d0c1",
   "metadata": {},
   "source": [
    "# Задание 1."
   ]
  },
  {
   "cell_type": "code",
   "execution_count": 156,
   "id": "80ea4397",
   "metadata": {},
   "outputs": [],
   "source": [
    "word = \"testing\""
   ]
  },
  {
   "cell_type": "code",
   "execution_count": 157,
   "id": "35828a74",
   "metadata": {},
   "outputs": [
    {
     "name": "stdout",
     "output_type": "stream",
     "text": [
      "Резльтат: t\n"
     ]
    }
   ],
   "source": [
    "if len(word) % 2 == 0: #Проверка на четность букв\n",
    "    print(\"Резльтат: \"+word[(len(word)//2)-1:(len(word)//2)+1]) # Делим кол. пополам и выводим по индексу [x-1;x+1] строку\n",
    "else:\n",
    "    print(\"Резльтат: \"+word[(len(word)//2)])# Делим кол. символов пополам и выводим по индексу этот символ по середине."
   ]
  },
  {
   "cell_type": "markdown",
   "id": "53db0149",
   "metadata": {},
   "source": [
    "# Задание 2."
   ]
  },
  {
   "cell_type": "code",
   "execution_count": 153,
   "id": "947586e5",
   "metadata": {},
   "outputs": [],
   "source": [
    "boys = ['Peter', 'Alex', 'John', 'Arthur', 'Richard']"
   ]
  },
  {
   "cell_type": "code",
   "execution_count": 154,
   "id": "b4acbf4f",
   "metadata": {},
   "outputs": [],
   "source": [
    "girls = ['Kate', 'Liza', 'Kira', 'Emma', 'Trisha']"
   ]
  },
  {
   "cell_type": "code",
   "execution_count": 155,
   "id": "99a8895b",
   "metadata": {},
   "outputs": [
    {
     "name": "stdout",
     "output_type": "stream",
     "text": [
      "Результат:\n",
      "Идеальные пары:\n",
      "Alex и Emma\n",
      "Arthur и Kate\n",
      "John и Kira\n",
      "Peter и Liza\n",
      "Richard и Trisha\n"
     ]
    }
   ],
   "source": [
    "if (len(boys) == len(girls)): # Проверяем кол. мальчиков и девочек\n",
    "    sort_alpahbet_zip = zip(sorted(boys),sorted(girls)) # Сортируем функцией по алфавиту и делаем кортеж идеальных пар\n",
    "    print(\"Результат:\\n\"\"Идеальные пары:\")\n",
    "    for best_love in sort_alpahbet_zip: #Выводим иделальные пары перебирая циклом кортеж\n",
    "        print(best_love[0], \"и\", best_love[1])\n",
    "else:\n",
    "    print(\"Результат: Внимание, кто-то может остаться без пары!\")"
   ]
  },
  {
   "cell_type": "code",
   "execution_count": null,
   "id": "bb5628ec",
   "metadata": {},
   "outputs": [],
   "source": []
  }
 ],
 "metadata": {
  "kernelspec": {
   "display_name": "Python 3 (ipykernel)",
   "language": "python",
   "name": "python3"
  },
  "language_info": {
   "codemirror_mode": {
    "name": "ipython",
    "version": 3
   },
   "file_extension": ".py",
   "mimetype": "text/x-python",
   "name": "python",
   "nbconvert_exporter": "python",
   "pygments_lexer": "ipython3",
   "version": "3.9.12"
  }
 },
 "nbformat": 4,
 "nbformat_minor": 5
}
