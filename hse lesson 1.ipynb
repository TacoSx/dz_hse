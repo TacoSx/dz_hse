{
 "cells": [
  {
   "cell_type": "markdown",
   "id": "2e99f76b",
   "metadata": {},
   "source": [
    "# Задача 1."
   ]
  },
  {
   "cell_type": "code",
   "execution_count": null,
   "id": "595dea00",
   "metadata": {},
   "outputs": [],
   "source": [
    "year = int(input()) #ввод года"
   ]
  },
  {
   "cell_type": "code",
   "execution_count": 5,
   "id": "05219ed8",
   "metadata": {},
   "outputs": [
    {
     "name": "stdout",
     "output_type": "stream",
     "text": [
      "Високосный год\n"
     ]
    }
   ],
   "source": [
    "if (year % 4 == 0 and year % 100 != 0) or year % 400 == 0: #Условие сравнения. Если год делиться на 4 без остатка и на 100 с остатком или на 400 без то високостный\n",
    "    print(\"Високосный год\")\n",
    "else:\n",
    "    print(\"Не високосный год\")"
   ]
  },
  {
   "cell_type": "markdown",
   "id": "1911ced5",
   "metadata": {},
   "source": [
    "# Задача 2."
   ]
  },
  {
   "cell_type": "code",
   "execution_count": 12,
   "id": "2f8f7b03",
   "metadata": {},
   "outputs": [
    {
     "name": "stdout",
     "output_type": "stream",
     "text": [
      "Номер билета(6 цифр):123321\n"
     ]
    }
   ],
   "source": [
    "bilet_number = int(input())"
   ]
  },
  {
   "cell_type": "code",
   "execution_count": 13,
   "id": "d0f91453",
   "metadata": {},
   "outputs": [
    {
     "name": "stdout",
     "output_type": "stream",
     "text": [
      "Номер билета не коректный. Должен быть 6 цифр.\n"
     ]
    }
   ],
   "source": [
    "if bilet_number == 6: #Проверка на кол-во цифр\n",
    "    if (((bilet_number // 100000)+(bilet_number // 10000 % 10)+(bilet_number // 1000 % 10)) == (bilet_number // 100 % 10)+(bilet_number // 10 % 10)+(bilet_number % 10)): # Проверка на удачливый билет\n",
    "        print(\"Билет счастливый\")\n",
    "    else:\n",
    "        print(\"Билет не счастливый\")\n",
    "else:\n",
    "    print(\"Номер билета не коректный. Должен быть 6 цифр.\")"
   ]
  }
 ],
 "metadata": {
  "kernelspec": {
   "display_name": "Python 3 (ipykernel)",
   "language": "python",
   "name": "python3"
  },
  "language_info": {
   "codemirror_mode": {
    "name": "ipython",
    "version": 3
   },
   "file_extension": ".py",
   "mimetype": "text/x-python",
   "name": "python",
   "nbconvert_exporter": "python",
   "pygments_lexer": "ipython3",
   "version": "3.9.12"
  }
 },
 "nbformat": 4,
 "nbformat_minor": 5
}
