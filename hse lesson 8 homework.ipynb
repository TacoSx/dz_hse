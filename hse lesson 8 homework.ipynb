{
 "cells": [
  {
   "cell_type": "markdown",
   "id": "e36e67b3",
   "metadata": {},
   "source": [
    "# Задание 1 ДЗ 8"
   ]
  },
  {
   "cell_type": "code",
   "execution_count": 124,
   "id": "7df28932",
   "metadata": {},
   "outputs": [],
   "source": [
    "import re"
   ]
  },
  {
   "cell_type": "code",
   "execution_count": 130,
   "id": "d2a4b540",
   "metadata": {},
   "outputs": [],
   "source": [
    "reg_car_num = re.compile(r'^[АВЕКМНОРСТУХ]\\d{3}[АВЕКМНОРСТУХ]{2}(?P<region>\\d{2,3})$')"
   ]
  },
  {
   "cell_type": "code",
   "execution_count": 131,
   "id": "9ed16825",
   "metadata": {},
   "outputs": [],
   "source": [
    "def car_num():\n",
    "    car_number = str(input())\n",
    "    ok = reg_car_num.match(car_number)\n",
    "    if ok:\n",
    "        print(f\"Результат: Номер {car_number} валиден. Регион: {ok['region']}\")\n",
    "    else:\n",
    "        print(f\"Результат: Номер {car_number} не валиден\")"
   ]
  },
  {
   "cell_type": "code",
   "execution_count": 133,
   "id": "3c4c44f9",
   "metadata": {
    "scrolled": true
   },
   "outputs": [
    {
     "name": "stdout",
     "output_type": "stream",
     "text": [
      "А222ВС96\n",
      "Результат: Номер А222ВС96 валиден. Регион: 96\n"
     ]
    }
   ],
   "source": [
    "car_num()"
   ]
  },
  {
   "cell_type": "code",
   "execution_count": 134,
   "id": "d6830ac4",
   "metadata": {},
   "outputs": [
    {
     "name": "stdout",
     "output_type": "stream",
     "text": [
      "АБ22ВВ193\n",
      "Результат: Номер АБ22ВВ193 не валиден\n"
     ]
    }
   ],
   "source": [
    "car_num()"
   ]
  },
  {
   "cell_type": "markdown",
   "id": "67e9a1d0",
   "metadata": {},
   "source": [
    "# Задание 2 ДЗ 8"
   ]
  },
  {
   "cell_type": "code",
   "execution_count": 135,
   "id": "76a851e9",
   "metadata": {},
   "outputs": [],
   "source": [
    "def del_pov():\n",
    "    text = str(input())\n",
    "    return(\"Результат: \" + re.sub(r'\\b([^\\W\\d_]+)(\\s+\\1)+\\b', r'\\1', re.sub(r'\\W+', ' ', text).strip(), flags=re.I))"
   ]
  },
  {
   "cell_type": "code",
   "execution_count": 136,
   "id": "873efafe",
   "metadata": {},
   "outputs": [
    {
     "name": "stdout",
     "output_type": "stream",
     "text": [
      "Напишите функцию функцию, которая будет будет будет будет удалять все все все все последовательные повторы слов из из из из заданной строки строки при помощи регулярных выражений\n"
     ]
    },
    {
     "data": {
      "text/plain": [
       "'Результат: Напишите функцию которая будет удалять все последовательные повторы слов из заданной строки при помощи регулярных выражений'"
      ]
     },
     "execution_count": 136,
     "metadata": {},
     "output_type": "execute_result"
    }
   ],
   "source": [
    "del_pov()"
   ]
  }
 ],
 "metadata": {
  "kernelspec": {
   "display_name": "Python 3 (ipykernel)",
   "language": "python",
   "name": "python3"
  },
  "language_info": {
   "codemirror_mode": {
    "name": "ipython",
    "version": 3
   },
   "file_extension": ".py",
   "mimetype": "text/x-python",
   "name": "python",
   "nbconvert_exporter": "python",
   "pygments_lexer": "ipython3",
   "version": "3.9.12"
  }
 },
 "nbformat": 4,
 "nbformat_minor": 5
}
