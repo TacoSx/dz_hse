{
 "cells": [
  {
   "cell_type": "markdown",
   "id": "b2567b09",
   "metadata": {},
   "source": [
    "# Задание 1."
   ]
  },
  {
   "cell_type": "code",
   "execution_count": 333,
   "id": "9aafe086",
   "metadata": {},
   "outputs": [],
   "source": [
    "ids = {'user1': [213, 213, 213, 15, 213], \n",
    "       'user2': [54, 54, 119, 119, 119], \n",
    "       'user3': [213, 98, 98, 35]}"
   ]
  },
  {
   "cell_type": "code",
   "execution_count": 334,
   "id": "e10ff2e7",
   "metadata": {},
   "outputs": [
    {
     "name": "stdout",
     "output_type": "stream",
     "text": [
      "{98, 35, 15, 213, 54, 119}\n"
     ]
    }
   ],
   "source": [
    "print(set(sum(ids.values(), [])))"
   ]
  },
  {
   "cell_type": "markdown",
   "id": "d4d69a1d",
   "metadata": {},
   "source": [
    "# Задание 2."
   ]
  },
  {
   "cell_type": "code",
   "execution_count": 114,
   "id": "cec657b2",
   "metadata": {},
   "outputs": [],
   "source": [
    "queries = [\n",
    "    'смотреть сериалы онлайн',\n",
    "    'новости спорта',\n",
    "    'афиша кино',\n",
    "    'курс доллара',\n",
    "    'сериалы этим летом',\n",
    "    'курс по питону',\n",
    "    'сериалы про спорт',\n",
    "]"
   ]
  },
  {
   "cell_type": "code",
   "execution_count": 115,
   "id": "ca27fd5c",
   "metadata": {},
   "outputs": [],
   "source": [
    "word_list = {}"
   ]
  },
  {
   "cell_type": "code",
   "execution_count": 116,
   "id": "8c08ddea",
   "metadata": {},
   "outputs": [],
   "source": [
    "for query in queries:\n",
    "    words = query.split()\n",
    "    if len(words) in word_list.keys():\n",
    "        word_list[len(words)] += 1\n",
    "    else:\n",
    "        word_list.update({len(words): 1})"
   ]
  },
  {
   "cell_type": "code",
   "execution_count": 336,
   "id": "97ad929f",
   "metadata": {},
   "outputs": [
    {
     "name": "stdout",
     "output_type": "stream",
     "text": [
      "Поисковых запросов из 2 слова: 57.14% (3 запр.)\n",
      "Поисковых запросов из 2 слова: 42.86% (3 запр.)\n"
     ]
    }
   ],
   "source": [
    "for key1, value1 in word_list.items():\n",
    "    proc = round((value1 / len(queries)) * 100, 2)\n",
    "    print(f'Поисковых запросов из {key} слова: {proc}% ({value} запр.)')"
   ]
  },
  {
   "cell_type": "markdown",
   "id": "77fc995a",
   "metadata": {},
   "source": [
    "# Задание 3."
   ]
  },
  {
   "cell_type": "code",
   "execution_count": 337,
   "id": "df06d8fb",
   "metadata": {},
   "outputs": [],
   "source": [
    "results = {\n",
    "    'vk': {'revenue': 103, 'cost': 98},\n",
    "    'yandex': {'revenue': 179, 'cost': 153},\n",
    "    'facebook': {'revenue': 103, 'cost': 110},\n",
    "    'adwords': {'revenue': 35, 'cost': 34},\n",
    "    'twitter': {'revenue': 11, 'cost': 24},\n",
    "}"
   ]
  },
  {
   "cell_type": "code",
   "execution_count": 338,
   "id": "827b9d38",
   "metadata": {},
   "outputs": [],
   "source": [
    "for key3,value3 in results.items():\n",
    "    value3['ROI']=round((element2['revenue'] / element2['cost'] - 1) * 100, 2)"
   ]
  },
  {
   "cell_type": "code",
   "execution_count": 339,
   "id": "28621cb1",
   "metadata": {},
   "outputs": [
    {
     "name": "stdout",
     "output_type": "stream",
     "text": [
      "{'vk': {'revenue': 103, 'cost': 98, 'ROI': -54.17}, 'yandex': {'revenue': 179, 'cost': 153, 'ROI': -54.17}, 'facebook': {'revenue': 103, 'cost': 110, 'ROI': -54.17}, 'adwords': {'revenue': 35, 'cost': 34, 'ROI': -54.17}, 'twitter': {'revenue': 11, 'cost': 24, 'ROI': -54.17}}\n"
     ]
    }
   ],
   "source": [
    "print(results)"
   ]
  },
  {
   "cell_type": "markdown",
   "id": "531bfae8",
   "metadata": {},
   "source": [
    "# Задание 4."
   ]
  },
  {
   "cell_type": "code",
   "execution_count": 340,
   "id": "507d2e75",
   "metadata": {},
   "outputs": [],
   "source": [
    "stats = {'facebook': 55, 'yandex': 115, 'vk': 120, 'google': 99, 'email': 42, 'ok': 98}"
   ]
  },
  {
   "cell_type": "code",
   "execution_count": 341,
   "id": "cd5bc742",
   "metadata": {},
   "outputs": [
    {
     "name": "stdout",
     "output_type": "stream",
     "text": [
      "Результат: Максимальный объем продаж на рекламном канале: vk\n"
     ]
    }
   ],
   "source": [
    "print(\"Результат: Максимальный объем продаж на рекламном канале: \"+ max(stats, key=stats.get))"
   ]
  },
  {
   "cell_type": "markdown",
   "id": "5cea1797",
   "metadata": {},
   "source": [
    "# Задание 5."
   ]
  },
  {
   "cell_type": "code",
   "execution_count": 342,
   "id": "99b39619",
   "metadata": {},
   "outputs": [],
   "source": [
    "my_list = ['a', 'b', 'c', 'd', 'e', 'f']"
   ]
  },
  {
   "cell_type": "code",
   "execution_count": 343,
   "id": "26caaebc",
   "metadata": {},
   "outputs": [],
   "source": [
    "y = {my_list[-2]: my_list[-1]}"
   ]
  },
  {
   "cell_type": "code",
   "execution_count": 344,
   "id": "eeb07e25",
   "metadata": {},
   "outputs": [],
   "source": [
    "for element5 in my_list[:-2][::-1]:\n",
    "    y = {element5: y}"
   ]
  },
  {
   "cell_type": "code",
   "execution_count": 345,
   "id": "b76986fc",
   "metadata": {},
   "outputs": [
    {
     "name": "stdout",
     "output_type": "stream",
     "text": [
      "{'a': {'b': {'c': {'d': {'e': 'f'}}}}}\n"
     ]
    }
   ],
   "source": [
    "print(y)"
   ]
  },
  {
   "cell_type": "markdown",
   "id": "7640b27b",
   "metadata": {},
   "source": [
    "# Задание 6."
   ]
  },
  {
   "cell_type": "code",
   "execution_count": 357,
   "id": "798dcfd2",
   "metadata": {},
   "outputs": [],
   "source": [
    "cook_book = {\n",
    "  'салат': [\n",
    "    {'ingridient_name': 'сыр', 'quantity': 50, 'measure': 'гр'},\n",
    "     {'ingridient_name': 'томаты', 'quantity': 2, 'measure': 'шт'},\n",
    "     {'ingridient_name': 'огурцы', 'quantity': 20, 'measure': 'гр'},\n",
    "     {'ingridient_name': 'маслины', 'quantity': 10, 'measure': 'гр'},\n",
    "     {'ingridient_name': 'оливковое масло', 'quantity': 20, 'measure': 'мл'},\n",
    "     {'ingridient_name': 'салат', 'quantity': 10, 'measure': 'гр'},\n",
    "     {'ingridient_name': 'перец', 'quantity': 20, 'measure': 'гр'}\n",
    "    ],\n",
    "  'пицца': [\n",
    "    {'ingridient_name': 'сыр', 'quantity': 20, 'measure': 'гр'},\n",
    "     {'ingridient_name': 'колбаса', 'quantity': 30, 'measure': 'гр'},\n",
    "     {'ingridient_name': 'бекон', 'quantity': 30, 'measure': 'гр'},\n",
    "     {'ingridient_name': 'оливки', 'quantity': 10, 'measure': 'гр'},\n",
    "     {'ingridient_name': 'томаты', 'quantity': 20, 'measure': 'гр'},\n",
    "     {'ingridient_name': 'тесто', 'quantity': 100, 'measure': 'гр'},   \n",
    "    ],\n",
    "  'лимонад': [\n",
    "     {'ingridient_name': 'лимон', 'quantity': 1, 'measure': 'шт'},\n",
    "     {'ingridient_name': 'вода', 'quantity': 200, 'measure': 'мл'},\n",
    "     {'ingridient_name': 'сахар', 'quantity': 10, 'measure': 'гр'},\n",
    "     {'ingridient_name': 'лайм', 'quantity': 20, 'measure': 'гр'},    \n",
    "    ]\n",
    "}"
   ]
  },
  {
   "cell_type": "code",
   "execution_count": 358,
   "id": "780f42e4",
   "metadata": {},
   "outputs": [
    {
     "name": "stdout",
     "output_type": "stream",
     "text": [
      "2\n"
     ]
    }
   ],
   "source": [
    "count_person = int(input())"
   ]
  },
  {
   "cell_type": "code",
   "execution_count": 359,
   "id": "cab9ad29",
   "metadata": {
    "scrolled": true
   },
   "outputs": [
    {
     "name": "stdout",
     "output_type": "stream",
     "text": [
      "салат:\n",
      "сыр: 100 гр\n",
      "томаты: 4 шт\n",
      "огурцы: 40 гр\n",
      "маслины: 20 гр\n",
      "оливковое масло: 40 мл\n",
      "салат: 20 гр\n",
      "перец: 40 гр\n",
      " \n",
      "пицца:\n",
      "сыр: 40 гр\n",
      "колбаса: 60 гр\n",
      "бекон: 60 гр\n",
      "оливки: 20 гр\n",
      "томаты: 40 гр\n",
      "тесто: 200 гр\n",
      " \n",
      "лимонад:\n",
      "лимон: 2 шт\n",
      "вода: 400 мл\n",
      "сахар: 20 гр\n",
      "лайм: 40 гр\n",
      " \n"
     ]
    }
   ],
   "source": [
    "for items, ingridient in cook_book.items():\n",
    "    print(f'{items}:')\n",
    "    for list_ing in ingridient:\n",
    "        list_ing.update({'quantity': int(list_ing['quantity'])*count_person})\n",
    "        print(f\"{list_ing['ingridient_name']}: {list_ing['quantity']} {list_ing['measure']}\")\n",
    "    print(\" \")"
   ]
  }
 ],
 "metadata": {
  "kernelspec": {
   "display_name": "Python 3 (ipykernel)",
   "language": "python",
   "name": "python3"
  },
  "language_info": {
   "codemirror_mode": {
    "name": "ipython",
    "version": 3
   },
   "file_extension": ".py",
   "mimetype": "text/x-python",
   "name": "python",
   "nbconvert_exporter": "python",
   "pygments_lexer": "ipython3",
   "version": "3.9.12"
  }
 },
 "nbformat": 4,
 "nbformat_minor": 5
}
