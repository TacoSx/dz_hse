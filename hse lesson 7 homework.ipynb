{
 "cells": [
  {
   "cell_type": "markdown",
   "id": "50301c31",
   "metadata": {},
   "source": [
    "# Задание 1,2 ДЗ 7"
   ]
  },
  {
   "cell_type": "code",
   "execution_count": 176,
   "id": "83b1f9dc",
   "metadata": {},
   "outputs": [],
   "source": [
    "import requests\n",
    "import json"
   ]
  },
  {
   "cell_type": "code",
   "execution_count": 177,
   "id": "08531e68",
   "metadata": {},
   "outputs": [],
   "source": [
    "class Rate:\n",
    "    def __init__(self, format='value',diff=False):\n",
    "        self.format = format\n",
    "        self.diff=diff\n",
    "    # Задание 1 Функция с максимальным значением курса    \n",
    "    def max_cur(self):\n",
    "        r_json = self.exchange_rates()\n",
    "        all_currencies_value={}\n",
    "        for element in r_json:\n",
    "            all_currencies_value[element]=r_json[element]['Value']\n",
    "        max_currencies=max(all_currencies_value.keys(),key=(lambda x:all_currencies_value[x]))\n",
    "        return(max_currencies)\n",
    "\n",
    "    def exchange_rates(self):\n",
    "        r = requests.get(\"https://www.cbr-xml-daily.ru/daily_json.js\")\n",
    "        return r.json()['Valute']\n",
    "    \n",
    "    def make_format(self, currency):\n",
    "        response = self.exchange_rates()\n",
    "        \n",
    "        if currency in response:\n",
    "            if self.format == 'full':\n",
    "                return response[currency]\n",
    "            \n",
    "            if self.format == 'value':\n",
    "                #Проверка для задания 2 насчет diff\n",
    "                if not self.diff:\n",
    "                    return response[currency]['Value']\n",
    "                else:\n",
    "                    return response[currency]['Value']-response[currency]['Previous']\n",
    "        \n",
    "        return 'Error'\n",
    "    \n",
    "    def eur(self):\n",
    "        \"\"\"Возвращает курс евро на сегодня в формате self.format\"\"\"\n",
    "        return self.make_format('EUR')\n",
    "    \n",
    "    def usd(self):\n",
    "        \"\"\"Возвращает курс доллара на сегодня в формате self.format\"\"\"\n",
    "        return self.make_format('USD')\n",
    "    \n",
    "    def brl(self):\n",
    "        \"\"\"Возвращает курс бразильского реала на сегодня в формате self.format\"\"\"\n",
    "        return self.make_format('BRL')"
   ]
  },
  {
   "cell_type": "code",
   "execution_count": 178,
   "id": "8c2fa66c",
   "metadata": {},
   "outputs": [],
   "source": [
    "a = Rate()"
   ]
  },
  {
   "cell_type": "code",
   "execution_count": 188,
   "id": "0484d222",
   "metadata": {},
   "outputs": [
    {
     "data": {
      "text/plain": [
       "'CNY'"
      ]
     },
     "execution_count": 188,
     "metadata": {},
     "output_type": "execute_result"
    }
   ],
   "source": [
    "a.max_cur()"
   ]
  },
  {
   "cell_type": "code",
   "execution_count": 179,
   "id": "c6d6ad4a",
   "metadata": {},
   "outputs": [
    {
     "data": {
      "text/plain": [
       "61.2475"
      ]
     },
     "execution_count": 179,
     "metadata": {},
     "output_type": "execute_result"
    }
   ],
   "source": [
    "a.usd()"
   ]
  },
  {
   "cell_type": "code",
   "execution_count": 180,
   "id": "8f239e4a",
   "metadata": {
    "scrolled": true
   },
   "outputs": [
    {
     "data": {
      "text/plain": [
       "0.9941000000000031"
      ]
     },
     "execution_count": 180,
     "metadata": {},
     "output_type": "execute_result"
    }
   ],
   "source": [
    "a.diff = True\n",
    "a.usd()"
   ]
  },
  {
   "cell_type": "markdown",
   "id": "35a8a0d5",
   "metadata": {},
   "source": [
    "# Задание 3 ДЗ 7"
   ]
  },
  {
   "cell_type": "code",
   "execution_count": 181,
   "id": "648cad19",
   "metadata": {},
   "outputs": [],
   "source": [
    "class Employee:\n",
    "    def __init__(self, name, seniority,awards):\n",
    "        self.name = name\n",
    "        self.seniority = seniority\n",
    "        self.awards= awards\n",
    "        self.grade = 1\n",
    "    \n",
    "    def grade_up(self):\n",
    "        \"\"\"Повышает уровень сотрудника\"\"\"\n",
    "        self.grade += 1\n",
    "    \n",
    "    def publish_grade(self):\n",
    "        \"\"\"Публикация результатов аккредитации сотрудников\"\"\"\n",
    "        print(self.name, self.grade)\n",
    "    \n",
    "    def check_if_it_is_time_for_upgrade(self):\n",
    "        pass"
   ]
  },
  {
   "cell_type": "code",
   "execution_count": 185,
   "id": "8c43fc08",
   "metadata": {},
   "outputs": [],
   "source": [
    "#Сам класс\n",
    "class Designer (Employee):\n",
    "    def __init__(self, name, seniority, awards):\n",
    "        super().__init__(name, seniority, awards)\n",
    "        \n",
    "    def check_if_it_is_time_for_upgrade(self):\n",
    "        if self.seniority==0: \n",
    "            self.seniority=1+self.awards*2\n",
    "        else:\n",
    "            self.seniority+=1\n",
    "        if self.seniority % 7==0:\n",
    "                self.grade_up()\n",
    "        \n",
    "        return self.publish_grade()"
   ]
  },
  {
   "cell_type": "code",
   "execution_count": 186,
   "id": "e8aa32a4",
   "metadata": {},
   "outputs": [],
   "source": [
    "elena = Designer('Елена', seniority=0, awards=2)"
   ]
  },
  {
   "cell_type": "code",
   "execution_count": 187,
   "id": "1f79238d",
   "metadata": {},
   "outputs": [
    {
     "name": "stdout",
     "output_type": "stream",
     "text": [
      "Елена 1\n",
      "Елена 1\n",
      "Елена 2\n",
      "Елена 2\n",
      "Елена 2\n",
      "Елена 2\n",
      "Елена 2\n",
      "Елена 2\n",
      "Елена 2\n",
      "Елена 3\n",
      "Елена 3\n",
      "Елена 3\n",
      "Елена 3\n",
      "Елена 3\n",
      "Елена 3\n",
      "Елена 3\n",
      "Елена 4\n",
      "Елена 4\n",
      "Елена 4\n",
      "Елена 4\n"
     ]
    }
   ],
   "source": [
    "for i in range(20):\n",
    "    elena.check_if_it_is_time_for_upgrade()"
   ]
  },
  {
   "cell_type": "code",
   "execution_count": null,
   "id": "dd6bc750",
   "metadata": {},
   "outputs": [],
   "source": []
  }
 ],
 "metadata": {
  "kernelspec": {
   "display_name": "Python 3 (ipykernel)",
   "language": "python",
   "name": "python3"
  },
  "language_info": {
   "codemirror_mode": {
    "name": "ipython",
    "version": 3
   },
   "file_extension": ".py",
   "mimetype": "text/x-python",
   "name": "python",
   "nbconvert_exporter": "python",
   "pygments_lexer": "ipython3",
   "version": "3.9.12"
  }
 },
 "nbformat": 4,
 "nbformat_minor": 5
}
